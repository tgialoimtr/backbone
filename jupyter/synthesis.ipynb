{
 "cells": [
  {
   "cell_type": "code",
   "execution_count": 2,
   "metadata": {
    "colab": {},
    "colab_type": "code",
    "id": "E0uudIed2IER"
   },
   "outputs": [],
   "source": [
    "import cv2\n",
    "import numpy as np\n",
    "import itertools\n",
    "from scipy.interpolate import LinearNDInterpolator\n",
    "from PIL import Image\n",
    "from matplotlib import pyplot as plt\n",
    "\n",
    "import os, sys\n",
    "sys.path.append('/home/loitg/workspace/backbone/src/')\n",
    "from utils import Coord, Line\n",
    "from khoi import  transform, ppp\n",
    "from loi import createStandardGrid, multiple_transform, centralize, mls, alignGuidelines, gls2arr,\\\n",
    "drawField, arr1gls, arr2gls, GridMap\n",
    "\n",
    "sys.path.append('/home/loitg/workspace/test_google/')\n",
    "\n",
    "from pbprocess import get_document_bounds, FeatureType, readPb, draw_bounds, bound2points"
   ]
  },
  {
   "cell_type": "code",
   "execution_count": 3,
   "metadata": {},
   "outputs": [],
   "source": [
    "pbin = '/home/loitg/ssd/data/temp3/protobuf_unify_old'\n",
    "hinhphang1 = '/home/loitg/workspace/dewarp/hinhphang1'\n",
    "imagestemp = '/home/loitg/workspace/backbone/imagestemp/'\n",
    "fn = '650000000970875.2dd3731c-184a-4fbe-bc8b-e1333a732e72.636613902329249130.jpg'\n",
    "image = cv2.imread(os.path.join(hinhphang1, fn))\n",
    "pb_response = readPb(os.path.join(pbin, fn.replace('jpg', 'pb') ))\n",
    "word_bounds = get_document_bounds(pb_response, FeatureType.WORD)\n",
    "boxes = [bound2points(bound) for bound in word_bounds]\n",
    "\n",
    "mask_word = np.zeros(image.shape[:2], dtype=np.uint8)\n",
    "direction_map_x = np.zeros(image.shape[:2], dtype=np.uint8)\n",
    "direction_map_y = np.zeros(image.shape[:2], dtype=np.uint8)\n",
    "for box in boxes:\n",
    "    cv2.fillPoly(mask_word, np.expand_dims(np.array(box, dtype=np.int32), axis=0), 1)\n",
    "    d = Coord(*box[2])-Coord(*box[1])\n",
    "    cv2.fillPoly(direction_map_x, np.expand_dims(np.array(box, dtype=np.int32), axis=0), d.x)\n",
    "    cv2.fillPoly(direction_map_y, np.expand_dims(np.array(box, dtype=np.int32), axis=0), d.y)\n",
    "        \n",
    "direction_map = np.stack([direction_map_y, direction_map_x], axis=2)\n",
    "fg_mask = np.ones(image.shape[:2], dtype=np.uint8)"
   ]
  },
  {
   "cell_type": "code",
   "execution_count": 4,
   "metadata": {},
   "outputs": [],
   "source": [
    "from numpy import random as rd\n",
    "import random\n",
    "def createRandomInfos():\n",
    "    N = rd.randint(1,6) ### fold/curl counts\n",
    "    infos = []\n",
    "    for i in range(N):\n",
    "        center_r_x = rd.rand()\n",
    "        center_r_y = rd.rand()\n",
    "        direction = rd.uniform(360)\n",
    "        #print('%.2f,%.2f--%.2f--%.2f' % (center_r_x, center_r_y, direction, strength))\n",
    "        method = random.choice(['fold', 'curl'])\n",
    "        if method == 'fold':\n",
    "            strength = rd.uniform(0.4,1.3)\n",
    "        elif method == 'curl':\n",
    "            strength = rd.uniform(2.0,3.0)\n",
    "        infos.append((center_r_x, center_r_x, direction, strength, method))\n",
    "    return infos"
   ]
  },
  {
   "cell_type": "code",
   "execution_count": 5,
   "metadata": {},
   "outputs": [],
   "source": [
    "infos = [(0.5,0.5,0,1.6,'fold'),\\\n",
    "        (0.5,0.5,90,1.6,'fold')]\n",
    "# xx0, yy0, xx1, yy1 = distort(image, direction_map, infos)\n",
    "\n",
    "infos = createRandomInfos()\n",
    "\n",
    "xx0, yy0 = createStandardGrid(image.shape)\n",
    "grid_shape = xx0.shape\n",
    "xx0 = xx0.reshape(-1)\n",
    "yy0 = yy0.reshape(-1)\n",
    "xx1, yy1 = multiple_transform(image, xx0, yy0, infos)\n",
    "xx1, yy1 = centralize(xx1, yy1)\n",
    "# interpolation"
   ]
  },
  {
   "cell_type": "code",
   "execution_count": 5,
   "metadata": {},
   "outputs": [],
   "source": [
    "from transform import RotationScale     \n",
    "t = RotationScale((400,700), 45, 1.0)\n",
    "rs = t.transform_field(direction_map)"
   ]
  },
  {
   "cell_type": "code",
   "execution_count": 10,
   "metadata": {},
   "outputs": [],
   "source": [
    "# def hhh(head, p):\n",
    "#     head[:,:,[0,1]] = head[:,:,[1,0]]\n",
    "#     a = np.concatenate([head, np.ones(head.shape[:2] + (1,))], axis=2)\n",
    "#     a = np.expand_dims(a, 3)\n",
    "#     rs = np.matmul(p, a)\n",
    "#     rs = rs[:,:,:2,0]\n",
    "#     rs[:,:,[0,1]] = rs[:,:,[1,0]]\n",
    "#     return rs"
   ]
  },
  {
   "cell_type": "code",
   "execution_count": 11,
   "metadata": {},
   "outputs": [],
   "source": [
    "# head = np.moveaxis(np.mgrid[0:image.shape[0]:1, 0:image.shape[1]:1], 0, 2)\n",
    "# tail = head + direction_map\n",
    "\n",
    "# h1 = hhh(head, t.perspective)\n",
    "# t1 = hhh(tail, t.perspective)\n",
    "\n",
    "# rs = cv2.warpPerspective((t1 - h1), t.perspective, (image.shape[1], image.shape[0]))\n",
    "\n",
    "image1 = cv2.warpPerspective(image, t.perspective, (image.shape[1], image.shape[0]))"
   ]
  },
  {
   "cell_type": "code",
   "execution_count": 12,
   "metadata": {},
   "outputs": [
    {
     "data": {
      "text/plain": [
       "True"
      ]
     },
     "execution_count": 12,
     "metadata": {},
     "output_type": "execute_result"
    }
   ],
   "source": [
    "rs = drawField(image1, rs)\n",
    "cv2.imwrite(os.path.join(imagestemp, '%s_rfield.jpg' % (fn)), rs)"
   ]
  },
  {
   "cell_type": "code",
   "execution_count": 25,
   "metadata": {},
   "outputs": [
    {
     "data": {
      "text/plain": [
       "True"
      ]
     },
     "execution_count": 25,
     "metadata": {},
     "output_type": "execute_result"
    }
   ],
   "source": [
    "# t, r = syn_transform(image, xx1, yy1)\n",
    "# xx1, yy1 = t.transform_points(xx1, yy1)\n",
    "mapping_infos = GridMap(np.stack([yy0, xx0], axis=1), np.stack([yy1, xx1], axis=1))\n",
    "\n",
    "mask_words_infos = mapping_infos.transformArrayScalar(mask_word)\n",
    "\n",
    "mask_fg_infos = mapping_infos.transformArrayScalar(fg_mask)#.astype(np.uint8)\n",
    "erode_size = int(image.shape[1]/10)\n",
    "mask_fg_infos = cv2.erode(mask_fg_infos, np.ones((erode_size,erode_size),np.uint8), iterations = 1)\n",
    "\n",
    "image_infos = mapping_infos.transformArrayScalar_bilinear(image)\n",
    "\n",
    "image_infos = image*(mask_fg_infos[:,:,np.newaxis] < 0.5) + image_infos*(mask_fg_infos[:,:,np.newaxis] >= 0.5)\n",
    "\n",
    "cv2.imwrite(os.path.join(imagestemp, '%s_newimg.jpg' % (fn)), image_infos)\n",
    "cv2.imwrite(os.path.join(imagestemp, '%s_mask_word.jpg' % (fn)), mask_words_infos*255)\n",
    "cv2.imwrite(os.path.join(imagestemp, '%s_mask_fg.jpg' % (fn)), mask_fg_infos*255)\n"
   ]
  },
  {
   "cell_type": "code",
   "execution_count": 19,
   "metadata": {},
   "outputs": [
    {
     "ename": "TypeError",
     "evalue": "unsupported operand type(s) for /: 'tuple' and 'int'",
     "output_type": "error",
     "traceback": [
      "\u001b[0;31m---------------------------------------------------------------------------\u001b[0m",
      "\u001b[0;31mTypeError\u001b[0m                                 Traceback (most recent call last)",
      "\u001b[0;32m<ipython-input-19-ebac111d371a>\u001b[0m in \u001b[0;36m<module>\u001b[0;34m\u001b[0m\n\u001b[0;32m----> 1\u001b[0;31m \u001b[0mimage\u001b[0m\u001b[0;34m.\u001b[0m\u001b[0mshape\u001b[0m\u001b[0;34m[\u001b[0m\u001b[0;34m:\u001b[0m\u001b[0;36m2\u001b[0m\u001b[0;34m]\u001b[0m\u001b[0;34m/\u001b[0m\u001b[0;36m10\u001b[0m\u001b[0;34m\u001b[0m\u001b[0;34m\u001b[0m\u001b[0m\n\u001b[0m",
      "\u001b[0;31mTypeError\u001b[0m: unsupported operand type(s) for /: 'tuple' and 'int'"
     ]
    }
   ],
   "source": [
    "image.shape[:2]/10"
   ]
  },
  {
   "cell_type": "code",
   "execution_count": 11,
   "metadata": {},
   "outputs": [
    {
     "data": {
      "text/plain": [
       "True"
      ]
     },
     "execution_count": 11,
     "metadata": {},
     "output_type": "execute_result"
    }
   ],
   "source": [
    "# def createLabelerMaps(image, guidelines):\n",
    "gls = arr2gls(yy1, xx1, grid_shape)\n",
    "a_gls = alignGuidelines(gls)\n",
    "control_points = gls2arr(gls) #to_array2([item for sublist in gls for item in sublist])\n",
    "dst_points = gls2arr(a_gls) #to_array2([item for sublist in a_gls for item in sublist])\n",
    "mapping_align = GridMap(control_points, dst_points)\n",
    "\n",
    "deviation_field = mapping_align.deviationFromShape(image_infos.shape)\n",
    "\n",
    "image_field = drawField(image_infos, deviation_field)\n",
    "cv2.imwrite(os.path.join(imagestemp, '%s_field.jpg' % (fn)), image_field)"
   ]
  },
  {
   "cell_type": "code",
   "execution_count": 10,
   "metadata": {},
   "outputs": [
    {
     "data": {
      "text/plain": [
       "True"
      ]
     },
     "execution_count": 10,
     "metadata": {},
     "output_type": "execute_result"
    }
   ],
   "source": [
    "# Reconstruct from field reconstructFromField\n",
    "# grid = np.moveaxis(np.mgrid[0:image.shape[0]:1, 0:image.shape[1]:1], 0, 2)\n",
    "# new_grid = (grid + deviation_field).astype(int)\n",
    "# np.clip(new_grid[:,:,0], 0,image.shape[0]-1, out=new_grid[:,:,0])\n",
    "# np.clip(new_grid[:,:,1], 0,image.shape[1]-1, out=new_grid[:,:,1])\n",
    "# new_image = np.ndarray(shape=image.shape, dtype=np.uint8)\n",
    "# new_image[new_grid[:,:,0].reshape(-1), new_grid[:,:,1].reshape(-1)] = image_infos[grid[:,:,0].reshape(-1), grid[:,:,1].reshape(-1)]\n",
    "# cv2.imwrite(os.path.join(imagestemp, '%s_transformed.jpg' % (fn)), new_image)"
   ]
  },
  {
   "cell_type": "code",
   "execution_count": 50,
   "metadata": {},
   "outputs": [
    {
     "name": "stdout",
     "output_type": "stream",
     "text": [
      "650000000970875.2dd3731c-184a-4fbe-bc8b-e1333a732e72.636613902329249130.jpg\n"
     ]
    }
   ],
   "source": [
    "pbin = '/home/loitg/ssd/data/temp3/protobuf_unify_old'\n",
    "hinhphang1 = '/home/loitg/workspace/dewarp/hinhphang1'\n",
    "imagestemp = '/home/loitg/workspace/backbone/imagestemp/'\n",
    "    \n",
    "from scipy import stats\n",
    "\n",
    "for i, fn in enumerate(os.listdir(hinhphang1)[:1]):\n",
    "#     if fn not in ['650000000945170.ae71c488-564f-435d-92a6-bbd88725b14d.636613201821177483.jpg']:\n",
    "#         continue\n",
    "    print(fn)\n",
    "    \n",
    "    image = cv2.imread(os.path.join(hinhphang1, fn))\n",
    "    direction_map = np.ndarray(shape=(image.shape[0], image.shape[1], 2))\n",
    "    direction_map[:,:] = [0,-10]\n",
    "\n",
    "    infos = [(0.5,0.5,0,1.6,'fold'),\\\n",
    "            (0.5,0.5,90,1.6,'fold')]\n",
    "    xx0, yy0, xx1, yy1 = distort(image, direction_map, infos)\n",
    "    \n",
    "    #image_div, direction_map_div = distort([image, direction_map], strength/distort_info=?) ### KHOI\n",
    "    \n",
    "    \n",
    "    "
   ]
  },
  {
   "cell_type": "code",
   "execution_count": 9,
   "metadata": {},
   "outputs": [
    {
     "data": {
      "text/plain": [
       "True"
      ]
     },
     "execution_count": 9,
     "metadata": {},
     "output_type": "execute_result"
    }
   ],
   "source": [
    "a = cv2.resize(image, None, fx=0.1, fy=0.1)\n",
    "cv2.imwrite(os.path.join(imagestemp, '%s_small.jpg' % (fn)), a)"
   ]
  },
  {
   "cell_type": "code",
   "execution_count": null,
   "metadata": {},
   "outputs": [],
   "source": []
  }
 ],
 "metadata": {
  "colab": {
   "name": "Untitled14.ipynb",
   "provenance": []
  },
  "kernelspec": {
   "display_name": "Python 3",
   "language": "python",
   "name": "python3"
  },
  "language_info": {
   "codemirror_mode": {
    "name": "ipython",
    "version": 3
   },
   "file_extension": ".py",
   "mimetype": "text/x-python",
   "name": "python",
   "nbconvert_exporter": "python",
   "pygments_lexer": "ipython3",
   "version": "3.6.10"
  }
 },
 "nbformat": 4,
 "nbformat_minor": 1
}
