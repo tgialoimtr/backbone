{
 "cells": [
  {
   "cell_type": "code",
   "execution_count": 1,
   "metadata": {},
   "outputs": [],
   "source": [
    "import sqlite3\n",
    "import os, sys\n",
    "import json\n",
    "import os, sys\n",
    "sys.path.append('/home/loitg/workspace/backbone/src/')\n",
    "from utils import Coord, Line\n",
    "from khoi import  transform, ppp\n",
    "from loi import createStandardGrid, multiple_transform, centralize, mls, alignGuidelines, gls2arr,\\\n",
    "drawField, arr1gls, arr2gls, GridMap\n",
    "\n",
    "import numpy as np\n",
    "sys.path.append('/home/loitg/workspace/test_google/')\n",
    "\n",
    "from pbprocess import get_document_bounds, FeatureType, readPb, draw_bounds, bound2points\n",
    "ROOT_DIR = '/home/loitg/workspace/backbone/'\n",
    "\n",
    "db = sqlite3.connect(os.path.join(ROOT_DIR, 'flaskr.sqlite'), detect_types=sqlite3.PARSE_DECLTYPES)\n",
    "c = db.cursor()\n",
    "rs = c.execute(\"SELECT name FROM sqlite_master WHERE type='table' AND name=?\", ['images']);"
   ]
  },
  {
   "cell_type": "code",
   "execution_count": 2,
   "metadata": {},
   "outputs": [],
   "source": [
    "import cv2\n",
    "import numpy as np\n",
    "import itertools\n",
    "from scipy.interpolate import LinearNDInterpolator\n",
    "from PIL import Image\n",
    "from matplotlib import pyplot as plt\n",
    "\n",
    "import os, sys\n",
    "sys.path.append('/home/loitg/workspace/backbone/src/')\n",
    "from utils import Coord, Line\n",
    "from khoi import  transform, ppp\n",
    "from loi import createStandardGrid, multiple_transform, centralize, mls, alignGuidelines, gls2arr,\\\n",
    "drawField, arr1gls, arr2gls, GridMap\n",
    "\n",
    "sys.path.append('/home/loitg/workspace/test_google/')\n",
    "\n",
    "from pbprocess import get_document_bounds, FeatureType, readPb, draw_bounds, bound2points"
   ]
  },
  {
   "cell_type": "code",
   "execution_count": 3,
   "metadata": {},
   "outputs": [],
   "source": [
    "rs = c.execute(\"select * from images\")"
   ]
  },
  {
   "cell_type": "code",
   "execution_count": 4,
   "metadata": {},
   "outputs": [],
   "source": [
    "allrows = rs.fetchall()\n",
    "imageName_all = [row[0] for row in allrows if row[1] != 'None']\n",
    "imageStatus_all = [row[1] for row in allrows if row[1] != 'None']\n",
    "guidelines_all = [json.loads(row[2]) for row in allrows if row[1] != 'None']\n",
    "\n",
    "def cvtGL2Coords(guidelines):\n",
    "    return [[Coord(a[\"x\"], a[\"y\"]) for a in guideline] for guideline in guidelines]\n",
    "\n",
    "guidelines_all = [cvtGL2Coords(guidelines) for guidelines in guidelines_all]\n",
    "\n",
    "N = len(imageName_all)"
   ]
  },
  {
   "cell_type": "code",
   "execution_count": 28,
   "metadata": {},
   "outputs": [],
   "source": [
    "pbin = '/home/loitg/ssd/data/temp3/protobuf_unify_old'\n",
    "imagesin = '/home/loitg/ssd/data/temp3/images_unify_old'\n",
    "# hinhphang1 = '/home/loitg/workspace/dewarp/hinhphang1'\n",
    "imagestemp = '/home/loitg/workspace/backbone/imagestemp/'\n",
    "\n",
    "fn = '650000000002571.85b265c4-35fc-4fe0-a240-d9672390ea54.636615750414373359.jpg'\n",
    "image = cv2.imread(os.path.join(imagesin, fn)) # hinh cong tu nhien\n",
    "pb_response = readPb(os.path.join(pbin, fn.replace('jpg', 'pb') ))\n",
    "word_bounds = get_document_bounds(pb_response, FeatureType.WORD)\n",
    "boxes = [bound2points(bound) for bound in word_bounds]\n",
    "\n",
    "mask_word = np.zeros(image.shape[:2], dtype=np.uint8) # mask cong tu nhien\n",
    "# direction_map_x = np.zeros(image.shape[:2], dtype=np.uint8)\n",
    "# direction_map_y = np.zeros(image.shape[:2], dtype=np.uint8)\n",
    "# for box in boxes:\n",
    "#     cv2.fillPoly(mask_word, np.expand_dims(np.array(box, dtype=np.int32), axis=0), 1)\n",
    "#     d = Coord(*box[2])-Coord(*box[1])\n",
    "#     cv2.fillPoly(direction_map_x, np.expand_dims(np.array(box, dtype=np.int32), axis=0), d.x)\n",
    "#     cv2.fillPoly(direction_map_y, np.expand_dims(np.array(box, dtype=np.int32), axis=0), d.y)\n",
    "        \n",
    "# direction_map = np.stack([direction_map_y, direction_map_x], axis=2) # direction_map tu nhien"
   ]
  },
  {
   "cell_type": "code",
   "execution_count": 36,
   "metadata": {},
   "outputs": [
    {
     "name": "stdout",
     "output_type": "stream",
     "text": [
      "[]\n"
     ]
    },
    {
     "ename": "ZeroDivisionError",
     "evalue": "float division by zero",
     "output_type": "error",
     "traceback": [
      "\u001b[0;31m---------------------------------------------------------------------------\u001b[0m",
      "\u001b[0;31mZeroDivisionError\u001b[0m                         Traceback (most recent call last)",
      "\u001b[0;32m<ipython-input-36-fcf0c987be29>\u001b[0m in \u001b[0;36m<module>\u001b[0;34m\u001b[0m\n\u001b[1;32m     11\u001b[0m     \u001b[0mgls\u001b[0m \u001b[0;34m=\u001b[0m \u001b[0mguidelines_all\u001b[0m\u001b[0;34m[\u001b[0m\u001b[0mi\u001b[0m\u001b[0;34m]\u001b[0m\u001b[0;34m\u001b[0m\u001b[0;34m\u001b[0m\u001b[0m\n\u001b[1;32m     12\u001b[0m     \u001b[0mprint\u001b[0m\u001b[0;34m(\u001b[0m\u001b[0mgls\u001b[0m\u001b[0;34m)\u001b[0m\u001b[0;34m\u001b[0m\u001b[0;34m\u001b[0m\u001b[0m\n\u001b[0;32m---> 13\u001b[0;31m     \u001b[0ma_gls\u001b[0m \u001b[0;34m=\u001b[0m \u001b[0malignGuidelines\u001b[0m\u001b[0;34m(\u001b[0m\u001b[0mgls\u001b[0m\u001b[0;34m)\u001b[0m\u001b[0;34m\u001b[0m\u001b[0;34m\u001b[0m\u001b[0m\n\u001b[0m\u001b[1;32m     14\u001b[0m \u001b[0;34m\u001b[0m\u001b[0m\n\u001b[1;32m     15\u001b[0m \u001b[0;34m\u001b[0m\u001b[0m\n",
      "\u001b[0;32m~/workspace/backbone/src/loi.py\u001b[0m in \u001b[0;36malignGuidelines\u001b[0;34m(gls)\u001b[0m\n\u001b[1;32m     48\u001b[0m         \u001b[0msumv\u001b[0m \u001b[0;34m+=\u001b[0m \u001b[0mgl\u001b[0m\u001b[0;34m[\u001b[0m\u001b[0;34m-\u001b[0m\u001b[0;36m1\u001b[0m\u001b[0;34m]\u001b[0m \u001b[0;34m-\u001b[0m \u001b[0mgl\u001b[0m\u001b[0;34m[\u001b[0m\u001b[0;36m0\u001b[0m\u001b[0;34m]\u001b[0m\u001b[0;34m\u001b[0m\u001b[0;34m\u001b[0m\u001b[0m\n\u001b[1;32m     49\u001b[0m     \u001b[0ml\u001b[0m \u001b[0;34m=\u001b[0m \u001b[0msumv\u001b[0m\u001b[0;34m.\u001b[0m\u001b[0mnorm\u001b[0m\u001b[0;34m(\u001b[0m\u001b[0;34m)\u001b[0m\u001b[0;34m\u001b[0m\u001b[0;34m\u001b[0m\u001b[0m\n\u001b[0;32m---> 50\u001b[0;31m     \u001b[0mcosa\u001b[0m \u001b[0;34m=\u001b[0m \u001b[0msumv\u001b[0m\u001b[0;34m.\u001b[0m\u001b[0mx\u001b[0m\u001b[0;34m/\u001b[0m\u001b[0ml\u001b[0m\u001b[0;34m\u001b[0m\u001b[0;34m\u001b[0m\u001b[0m\n\u001b[0m\u001b[1;32m     51\u001b[0m     \u001b[0msina\u001b[0m \u001b[0;34m=\u001b[0m \u001b[0msumv\u001b[0m\u001b[0;34m.\u001b[0m\u001b[0my\u001b[0m\u001b[0;34m/\u001b[0m\u001b[0ml\u001b[0m\u001b[0;34m\u001b[0m\u001b[0;34m\u001b[0m\u001b[0m\n\u001b[1;32m     52\u001b[0m     \u001b[0mmat2points\u001b[0m \u001b[0;34m=\u001b[0m \u001b[0mnp\u001b[0m\u001b[0;34m.\u001b[0m\u001b[0marray\u001b[0m\u001b[0;34m(\u001b[0m\u001b[0;34m[\u001b[0m\u001b[0;34m[\u001b[0m\u001b[0mcosa\u001b[0m\u001b[0;34m,\u001b[0m \u001b[0msina\u001b[0m\u001b[0;34m]\u001b[0m\u001b[0;34m,\u001b[0m\u001b[0;34m[\u001b[0m\u001b[0;34m-\u001b[0m\u001b[0msina\u001b[0m\u001b[0;34m,\u001b[0m \u001b[0mcosa\u001b[0m\u001b[0;34m]\u001b[0m\u001b[0;34m]\u001b[0m\u001b[0;34m)\u001b[0m\u001b[0;34m\u001b[0m\u001b[0;34m\u001b[0m\u001b[0m\n",
      "\u001b[0;31mZeroDivisionError\u001b[0m: float division by zero"
     ]
    }
   ],
   "source": [
    "import json\n",
    "import cv2\n",
    "\n",
    "for i in range(N):\n",
    "    name = imageName_all[i]\n",
    "    if name != fn:\n",
    "        continue\n",
    "    image = cv2.imread(os.path.join(imagesin, fn))\n",
    "    \n",
    "    \n",
    "    gls = guidelines_all[i]\n",
    "    print(gls)\n",
    "    a_gls = alignGuidelines(gls)\n",
    "    \n",
    "    \n",
    "    print(gls)"
   ]
  },
  {
   "cell_type": "code",
   "execution_count": 35,
   "metadata": {},
   "outputs": [
    {
     "data": {
      "text/plain": [
       "'650000000180669.eba6d3b6-2a01-460c-aa31-41600fc7d45b.636617310881658920.jpg'"
      ]
     },
     "execution_count": 35,
     "metadata": {},
     "output_type": "execute_result"
    }
   ],
   "source": [
    "name"
   ]
  },
  {
   "cell_type": "code",
   "execution_count": 26,
   "metadata": {},
   "outputs": [],
   "source": [
    "####### cong tu nhien =>align=> \n",
    "control_points = gls2arr(gls)\n",
    "dst_points = gls2arr(a_gls)\n",
    "\n",
    "xx0, yy0 = createStandardGrid(image.shape)\n",
    "grid_shape = xx0.shape\n",
    "xx0 = xx0.reshape(-1)\n",
    "yy0 = yy0.reshape(-1)\n",
    "\n",
    "standargrid = np.stack([yy0,xx0], axis=1)\n",
    "\n",
    "newgrid = mls(control_points, dst_points, standargrid)\n",
    "xx1 = newgrid[:,1]\n",
    "yy1 = newgrid[:,0]\n",
    "xx1, yy1 = centralize(xx1, yy1)\n",
    "\n",
    "mapping = GridMap(np.stack([yy0, xx0], axis=1), np.stack([yy1, xx1], axis=1))\n",
    "\n",
    "#########\n",
    "new_image = mapping.transformArrayScalar_bilinear(image)\n",
    "cv2.imwrite(os.path.join(imagestemp, '%s_flatten.jpg' % (fn)), new_image)\n",
    "cv2.imwrite(os.path.join(imagestemp, '%s_orgininal.jpg' % (fn)), image)\n",
    "\n",
    "deviation_field = mapping.deviationFromShape(image.shape)\n",
    "# deviation_field = drawField(image, deviation_field)\n",
    "# cv2.imwrite(os.path.join(imagestemp, '%s_deviation_field.jpg' % (fn)), deviation_field)\n",
    "\n",
    "# new_image, new_mask, new_vmap, F = mapping.transformAll(image, mask_word, direction_map)\n",
    "\n",
    "# cv2.imwrite(os.path.join(imagestemp, '%s_labeler_mask.jpg' % (fn)), new_mask*255)\n",
    "# new_vmap = drawField(new_image, new_vmap)\n",
    "# cv2.imwrite(os.path.join(imagestemp, '%s_labeler_vmap.jpg' % (fn)), new_vmap)\n",
    "# F = drawField(image, F)\n",
    "# cv2.imwrite(os.path.join(imagestemp, '%s_labeler_F.jpg' % (fn)), F)"
   ]
  },
  {
   "cell_type": "code",
   "execution_count": 27,
   "metadata": {},
   "outputs": [
    {
     "data": {
      "text/plain": [
       "True"
      ]
     },
     "execution_count": 27,
     "metadata": {},
     "output_type": "execute_result"
    }
   ],
   "source": [
    "grid = np.moveaxis(np.mgrid[0:image.shape[0]:1, 0:image.shape[1]:1], 0, 2)\n",
    "new_grid = (grid + deviation_field).astype(int)\n",
    "np.clip(new_grid[:,:,0], 0,image.shape[0]-1, out=new_grid[:,:,0])\n",
    "np.clip(new_grid[:,:,1], 0,image.shape[1]-1, out=new_grid[:,:,1])\n",
    "new_image = np.ndarray(shape=image.shape, dtype=np.uint8)\n",
    "new_image[new_grid[:,:,0].reshape(-1), new_grid[:,:,1].reshape(-1)] = image[grid[:,:,0].reshape(-1), grid[:,:,1].reshape(-1)]\n",
    "cv2.imwrite(os.path.join(imagestemp, '%s_reconstruct.jpg' % (fn)), new_image)"
   ]
  },
  {
   "cell_type": "code",
   "execution_count": 9,
   "metadata": {},
   "outputs": [],
   "source": [
    "grid = np.mgrid[0:image.shape[0]:1, 0:image.shape[1]:1]\n",
    "grid_y, grid_x = grid"
   ]
  },
  {
   "cell_type": "code",
   "execution_count": 164,
   "metadata": {},
   "outputs": [
    {
     "data": {
      "text/plain": [
       "(1497, 800, 2)"
      ]
     },
     "execution_count": 164,
     "metadata": {},
     "output_type": "execute_result"
    }
   ],
   "source": [
    "new_vmap.shape"
   ]
  },
  {
   "cell_type": "code",
   "execution_count": 9,
   "metadata": {},
   "outputs": [],
   "source": [
    "for fn in imageName_all:\n",
    "    if fn == '650000000970875.2dd3731c-184a-4fbe-bc8b-e1333a732e72.636613902329249130.jpg':\n",
    "        print(fn)\n",
    "        break"
   ]
  },
  {
   "cell_type": "code",
   "execution_count": 160,
   "metadata": {
    "scrolled": true
   },
   "outputs": [
    {
     "data": {
      "text/plain": [
       "array([105, 110, 210, 300, 305])"
      ]
     },
     "execution_count": 160,
     "metadata": {},
     "output_type": "execute_result"
    }
   ],
   "source": [
    "np.where(np.isnan(f).sum(axis=1)==2)[0]"
   ]
  },
  {
   "cell_type": "code",
   "execution_count": 8,
   "metadata": {},
   "outputs": [],
   "source": [
    "# control_points = gls2arr(gls)\n",
    "# dst_points = gls2arr(a_gls)\n",
    "# points = createStandardGrid((20,20), cell_size=1)\n",
    "# standargrid = np.stack(points, axis=2).reshape(-1,2)\n",
    "# newgrid = mls(control_points, dst_points, standargrid)\n",
    "# ppp(newgrid[:,0], newgrid[:,1], '')"
   ]
  }
 ],
 "metadata": {
  "kernelspec": {
   "display_name": "Python 3",
   "language": "python",
   "name": "python3"
  },
  "language_info": {
   "codemirror_mode": {
    "name": "ipython",
    "version": 3
   },
   "file_extension": ".py",
   "mimetype": "text/x-python",
   "name": "python",
   "nbconvert_exporter": "python",
   "pygments_lexer": "ipython3",
   "version": "3.6.10"
  }
 },
 "nbformat": 4,
 "nbformat_minor": 4
}
